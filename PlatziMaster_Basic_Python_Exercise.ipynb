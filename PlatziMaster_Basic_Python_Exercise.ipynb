{
  "nbformat": 4,
  "nbformat_minor": 0,
  "metadata": {
    "colab": {
      "name": "PlatziMaster_Basic_Python_Exercise.ipynb",
      "provenance": [],
      "authorship_tag": "ABX9TyP+e7k10cbdOeVc1HOfabnD",
      "include_colab_link": true
    },
    "kernelspec": {
      "name": "python3",
      "display_name": "Python 3"
    }
  },
  "cells": [
    {
      "cell_type": "markdown",
      "metadata": {
        "id": "view-in-github",
        "colab_type": "text"
      },
      "source": [
        "<a href=\"https://colab.research.google.com/github/JoseMelNet/JoseMelNet/blob/master/PlatziMaster_Basic_Python_Exercise.ipynb\" target=\"_parent\"><img src=\"https://colab.research.google.com/assets/colab-badge.svg\" alt=\"Open In Colab\"/></a>"
      ]
    },
    {
      "cell_type": "markdown",
      "metadata": {
        "id": "5bFGJ57jwf8Y",
        "colab_type": "text"
      },
      "source": [
        "## DATASET TO ANALYZE"
      ]
    },
    {
      "cell_type": "code",
      "metadata": {
        "id": "oWKPM-Plnpow",
        "colab_type": "code",
        "colab": {}
      },
      "source": [
        "data = [['A1', 28], ['A2', 32], ['A3', 1], ['A4', 0], ['A5', 10], ['A6', 22], ['A7', 30], ['A8', 19], ['B1', 145], ['B2', 27], ['B3', 36], ['B4', 25], ['B5', 9], ['B6', 38], ['B7', 21], ['B8', 12], ['C1', 122], ['C2', 87], ['C3', 36], ['C4', 3], ['D1', 0], ['D2', 5], ['D3', 55], ['D4', 62], ['D5', 98], ['D6', 32]]"
      ],
      "execution_count": null,
      "outputs": []
    },
    {
      "cell_type": "markdown",
      "metadata": {
        "id": "0xqVlr9cn-MS",
        "colab_type": "text"
      },
      "source": [
        "### 1 - How many sites are there?"
      ]
    },
    {
      "cell_type": "code",
      "metadata": {
        "id": "-fs_qxC2vJXH",
        "colab_type": "code",
        "colab": {
          "base_uri": "https://localhost:8080/",
          "height": 34
        },
        "outputId": "47694705-5334-402b-d34e-9782b61ec068"
      },
      "source": [
        "number_of_sites = len(data)\n",
        "print(f'Data was collected at {numero_de_sitios} sites')"
      ],
      "execution_count": null,
      "outputs": [
        {
          "output_type": "stream",
          "text": [
            "Data was collected at 26 sites\n"
          ],
          "name": "stdout"
        }
      ]
    },
    {
      "cell_type": "markdown",
      "metadata": {
        "id": "JwkT9FuBwIzj",
        "colab_type": "text"
      },
      "source": [
        "### 2 - How many dates were counted at seventh site?"
      ]
    },
    {
      "cell_type": "code",
      "metadata": {
        "id": "K_ydgz-bwLm9",
        "colab_type": "code",
        "colab": {
          "base_uri": "https://localhost:8080/",
          "height": 34
        },
        "outputId": "f1971ad0-9d5a-467f-d03a-63c8a0e11e81"
      },
      "source": [
        "point  = 7\n",
        "data_point = data[point - 1]\n",
        "site_point = data_point[0]\n",
        "number_data_counted_point = data_point[1]\n",
        "print(f'At site number {point} --{site_point}--> {number_data_counted_point} data were counted')"
      ],
      "execution_count": null,
      "outputs": [
        {
          "output_type": "stream",
          "text": [
            "At site number 7 --A7--> 30 data were counted\n"
          ],
          "name": "stdout"
        }
      ]
    },
    {
      "cell_type": "markdown",
      "metadata": {
        "id": "mXYcIWp3wYH-",
        "colab_type": "text"
      },
      "source": [
        "### 3 - How many dates were counted at last site?"
      ]
    },
    {
      "cell_type": "code",
      "metadata": {
        "id": "Ra3C9s7r1dXN",
        "colab_type": "code",
        "colab": {
          "base_uri": "https://localhost:8080/",
          "height": 34
        },
        "outputId": "8b0d87de-f7ff-4b05-a836-77b3b23ee963"
      },
      "source": [
        "last_point = len(data) - 1\n",
        "data_last_point = data[last_point]\n",
        "last_site = data_last_point[0]\n",
        "number_data_last_site = data_last_point[1]\n",
        "print(f'At last site --{last_site}--> {number_data_last_site} data were counted')"
      ],
      "execution_count": null,
      "outputs": [
        {
          "output_type": "stream",
          "text": [
            "At last site --D6--> 32 data were counted\n"
          ],
          "name": "stdout"
        }
      ]
    },
    {
      "cell_type": "markdown",
      "metadata": {
        "id": "T5H2IzWV3xzI",
        "colab_type": "text"
      },
      "source": [
        "### 4 - How many dates were counted at all sites?"
      ]
    },
    {
      "cell_type": "code",
      "metadata": {
        "id": "LWoH71gn3vkp",
        "colab_type": "code",
        "colab": {
          "base_uri": "https://localhost:8080/",
          "height": 34
        },
        "outputId": "0b1ef5e6-2f5f-4a69-f7e7-12eaf548fea4"
      },
      "source": [
        "total_data_counted = 0\n",
        "\n",
        "for data_point in data:\n",
        "  total_data_counted += data_point[1]\n",
        "\n",
        "print(f'At all sites {total_data_counted} data were counted')\n"
      ],
      "execution_count": null,
      "outputs": [
        {
          "output_type": "stream",
          "text": [
            "At all sites 955 data were counted\n"
          ],
          "name": "stdout"
        }
      ]
    },
    {
      "cell_type": "markdown",
      "metadata": {
        "id": "1DyQhXNt3wje",
        "colab_type": "text"
      },
      "source": [
        "### 5 - What is the mean data counted in any one site?"
      ]
    },
    {
      "cell_type": "code",
      "metadata": {
        "id": "RS9TqiUh7xzU",
        "colab_type": "code",
        "colab": {
          "base_uri": "https://localhost:8080/",
          "height": 34
        },
        "outputId": "832e9a00-28a6-4979-cdd3-4f29df5f8fb8"
      },
      "source": [
        "mean_data = total_data_counted / number_of_sites\n",
        "print(f'The mean data counted in any one site is {mean_data}')"
      ],
      "execution_count": null,
      "outputs": [
        {
          "output_type": "stream",
          "text": [
            "The mean data counted in any one site is 36.73076923076923\n"
          ],
          "name": "stdout"
        }
      ]
    },
    {
      "cell_type": "markdown",
      "metadata": {
        "id": "IA2J7Xgd-znO",
        "colab_type": "text"
      },
      "source": [
        "### 6 - What is the total number of data counted on sites with codes that start with C?"
      ]
    },
    {
      "cell_type": "code",
      "metadata": {
        "id": "qjDVO0Do_E-C",
        "colab_type": "code",
        "colab": {
          "base_uri": "https://localhost:8080/",
          "height": 34
        },
        "outputId": "9aeee7c2-cbfd-424a-bd8c-66580edfb1e5"
      },
      "source": [
        "tag = 'C'\n",
        "sites_code_tag = []\n",
        "data_counted_sites_code_tag = 0\n",
        "\n",
        "for data_point in data:\n",
        "  if data_point[0].startswith(tag):\n",
        "    sites_code_tag.append(data_point)\n",
        "    data_counted_sites_code_tag += data_point[1]\n",
        "  else:\n",
        "    pass\n",
        "\n",
        "print(f'On the sites with its code starts with \"{tag}\" -> {data_counted_sites_code_tag} were counted')\n"
      ],
      "execution_count": null,
      "outputs": [
        {
          "output_type": "stream",
          "text": [
            "On the sites with its code starts with \"C\" -> 248 were counted\n"
          ],
          "name": "stdout"
        }
      ]
    }
  ]
}